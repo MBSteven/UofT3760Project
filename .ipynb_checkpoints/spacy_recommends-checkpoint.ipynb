{
 "cells": [
  {
   "cell_type": "code",
   "execution_count": 1,
   "id": "46d86aea",
   "metadata": {},
   "outputs": [],
   "source": [
    "# Recommendation engine using spaCy\n",
    "##\n",
    "## initially trained on https://www.kaggle.com/datasets/snapcrack/all-the-news\n",
    "## with fields: ,id,title,publication,author,date,year,month,url,content\n",
    "## \n",
    "### using title only as a baseline model"
   ]
  },
  {
   "cell_type": "code",
   "execution_count": 2,
   "id": "036b6c5b",
   "metadata": {},
   "outputs": [],
   "source": [
    "import spacy\n",
    "import pandas as pd\n",
    "nlp = spacy.load('en_core_web_sm')"
   ]
  },
  {
   "cell_type": "code",
   "execution_count": 3,
   "id": "6316583a",
   "metadata": {},
   "outputs": [],
   "source": [
    "articles = pd.read_csv(\"../articles1.csv\")"
   ]
  },
  {
   "cell_type": "code",
   "execution_count": 4,
   "id": "e39e7b20",
   "metadata": {},
   "outputs": [
    {
     "name": "stdout",
     "output_type": "stream",
     "text": [
      "<class 'pandas.core.frame.DataFrame'>\n",
      "RangeIndex: 50000 entries, 0 to 49999\n",
      "Data columns (total 10 columns):\n",
      " #   Column       Non-Null Count  Dtype  \n",
      "---  ------       --------------  -----  \n",
      " 0   Unnamed: 0   50000 non-null  int64  \n",
      " 1   id           50000 non-null  int64  \n",
      " 2   title        50000 non-null  object \n",
      " 3   publication  50000 non-null  object \n",
      " 4   author       43694 non-null  object \n",
      " 5   date         50000 non-null  object \n",
      " 6   year         50000 non-null  float64\n",
      " 7   month        50000 non-null  float64\n",
      " 8   url          0 non-null      float64\n",
      " 9   content      50000 non-null  object \n",
      "dtypes: float64(3), int64(2), object(5)\n",
      "memory usage: 3.8+ MB\n"
     ]
    }
   ],
   "source": [
    "articles.info()"
   ]
  },
  {
   "cell_type": "code",
   "execution_count": 5,
   "id": "e4e312a9",
   "metadata": {},
   "outputs": [
    {
     "data": {
      "text/html": [
       "<div>\n",
       "<style scoped>\n",
       "    .dataframe tbody tr th:only-of-type {\n",
       "        vertical-align: middle;\n",
       "    }\n",
       "\n",
       "    .dataframe tbody tr th {\n",
       "        vertical-align: top;\n",
       "    }\n",
       "\n",
       "    .dataframe thead th {\n",
       "        text-align: right;\n",
       "    }\n",
       "</style>\n",
       "<table border=\"1\" class=\"dataframe\">\n",
       "  <thead>\n",
       "    <tr style=\"text-align: right;\">\n",
       "      <th></th>\n",
       "      <th>Unnamed: 0</th>\n",
       "      <th>id</th>\n",
       "      <th>title</th>\n",
       "      <th>publication</th>\n",
       "      <th>author</th>\n",
       "      <th>date</th>\n",
       "      <th>year</th>\n",
       "      <th>month</th>\n",
       "      <th>url</th>\n",
       "      <th>content</th>\n",
       "    </tr>\n",
       "  </thead>\n",
       "  <tbody>\n",
       "    <tr>\n",
       "      <th>0</th>\n",
       "      <td>0</td>\n",
       "      <td>17283</td>\n",
       "      <td>House Republicans Fret About Winning Their Hea...</td>\n",
       "      <td>New York Times</td>\n",
       "      <td>Carl Hulse</td>\n",
       "      <td>2016-12-31</td>\n",
       "      <td>2016.0</td>\n",
       "      <td>12.0</td>\n",
       "      <td>NaN</td>\n",
       "      <td>WASHINGTON  —   Congressional Republicans have...</td>\n",
       "    </tr>\n",
       "    <tr>\n",
       "      <th>1</th>\n",
       "      <td>1</td>\n",
       "      <td>17284</td>\n",
       "      <td>Rift Between Officers and Residents as Killing...</td>\n",
       "      <td>New York Times</td>\n",
       "      <td>Benjamin Mueller and Al Baker</td>\n",
       "      <td>2017-06-19</td>\n",
       "      <td>2017.0</td>\n",
       "      <td>6.0</td>\n",
       "      <td>NaN</td>\n",
       "      <td>After the bullet shells get counted, the blood...</td>\n",
       "    </tr>\n",
       "    <tr>\n",
       "      <th>2</th>\n",
       "      <td>2</td>\n",
       "      <td>17285</td>\n",
       "      <td>Tyrus Wong, ‘Bambi’ Artist Thwarted by Racial ...</td>\n",
       "      <td>New York Times</td>\n",
       "      <td>Margalit Fox</td>\n",
       "      <td>2017-01-06</td>\n",
       "      <td>2017.0</td>\n",
       "      <td>1.0</td>\n",
       "      <td>NaN</td>\n",
       "      <td>When Walt Disney’s “Bambi” opened in 1942, cri...</td>\n",
       "    </tr>\n",
       "    <tr>\n",
       "      <th>3</th>\n",
       "      <td>3</td>\n",
       "      <td>17286</td>\n",
       "      <td>Among Deaths in 2016, a Heavy Toll in Pop Musi...</td>\n",
       "      <td>New York Times</td>\n",
       "      <td>William McDonald</td>\n",
       "      <td>2017-04-10</td>\n",
       "      <td>2017.0</td>\n",
       "      <td>4.0</td>\n",
       "      <td>NaN</td>\n",
       "      <td>Death may be the great equalizer, but it isn’t...</td>\n",
       "    </tr>\n",
       "    <tr>\n",
       "      <th>4</th>\n",
       "      <td>4</td>\n",
       "      <td>17287</td>\n",
       "      <td>Kim Jong-un Says North Korea Is Preparing to T...</td>\n",
       "      <td>New York Times</td>\n",
       "      <td>Choe Sang-Hun</td>\n",
       "      <td>2017-01-02</td>\n",
       "      <td>2017.0</td>\n",
       "      <td>1.0</td>\n",
       "      <td>NaN</td>\n",
       "      <td>SEOUL, South Korea  —   North Korea’s leader, ...</td>\n",
       "    </tr>\n",
       "  </tbody>\n",
       "</table>\n",
       "</div>"
      ],
      "text/plain": [
       "   Unnamed: 0     id                                              title  \\\n",
       "0           0  17283  House Republicans Fret About Winning Their Hea...   \n",
       "1           1  17284  Rift Between Officers and Residents as Killing...   \n",
       "2           2  17285  Tyrus Wong, ‘Bambi’ Artist Thwarted by Racial ...   \n",
       "3           3  17286  Among Deaths in 2016, a Heavy Toll in Pop Musi...   \n",
       "4           4  17287  Kim Jong-un Says North Korea Is Preparing to T...   \n",
       "\n",
       "      publication                         author        date    year  month  \\\n",
       "0  New York Times                     Carl Hulse  2016-12-31  2016.0   12.0   \n",
       "1  New York Times  Benjamin Mueller and Al Baker  2017-06-19  2017.0    6.0   \n",
       "2  New York Times                   Margalit Fox  2017-01-06  2017.0    1.0   \n",
       "3  New York Times               William McDonald  2017-04-10  2017.0    4.0   \n",
       "4  New York Times                  Choe Sang-Hun  2017-01-02  2017.0    1.0   \n",
       "\n",
       "   url                                            content  \n",
       "0  NaN  WASHINGTON  —   Congressional Republicans have...  \n",
       "1  NaN  After the bullet shells get counted, the blood...  \n",
       "2  NaN  When Walt Disney’s “Bambi” opened in 1942, cri...  \n",
       "3  NaN  Death may be the great equalizer, but it isn’t...  \n",
       "4  NaN  SEOUL, South Korea  —   North Korea’s leader, ...  "
      ]
     },
     "execution_count": 5,
     "metadata": {},
     "output_type": "execute_result"
    }
   ],
   "source": [
    "articles.head()"
   ]
  },
  {
   "cell_type": "code",
   "execution_count": 6,
   "id": "1965abed",
   "metadata": {},
   "outputs": [
    {
     "data": {
      "text/plain": [
       "49417"
      ]
     },
     "execution_count": 6,
     "metadata": {},
     "output_type": "execute_result"
    }
   ],
   "source": [
    "# remove headlines with short title\n",
    "articles = articles[articles['title'].apply( lambda x: len( x.split() ) > 4 )]\n",
    "articles.shape[0]"
   ]
  },
  {
   "cell_type": "code",
   "execution_count": 7,
   "id": "157fab0c",
   "metadata": {},
   "outputs": [
    {
     "data": {
      "text/plain": [
       "49295"
      ]
     },
     "execution_count": 7,
     "metadata": {},
     "output_type": "execute_result"
    }
   ],
   "source": [
    "# remove duplicates\n",
    "articles.sort_values( 'title', inplace=True, ascending=False )\n",
    "duplicated_articles = articles.duplicated( 'title', keep=False )\n",
    "news_articles = articles[~duplicated_articles]\n",
    "news_articles.shape[0]"
   ]
  },
  {
   "cell_type": "code",
   "execution_count": 8,
   "id": "1879e436",
   "metadata": {},
   "outputs": [
    {
     "data": {
      "text/plain": [
       "Unnamed: 0         0\n",
       "id                 0\n",
       "title              0\n",
       "publication        0\n",
       "author          5862\n",
       "date               0\n",
       "year               0\n",
       "month              0\n",
       "url            49295\n",
       "content            0\n",
       "dtype: int64"
      ]
     },
     "execution_count": 8,
     "metadata": {},
     "output_type": "execute_result"
    }
   ],
   "source": [
    "news_articles.isna().sum()"
   ]
  },
  {
   "cell_type": "code",
   "execution_count": 9,
   "id": "b654efcb",
   "metadata": {},
   "outputs": [],
   "source": [
    "# now taking inspiration from https://www.kaggle.com/code/zackakil/done-nlp-using-word-vectors-with-spacy-cldspn/notebook\n"
   ]
  },
  {
   "cell_type": "code",
   "execution_count": 10,
   "id": "4524869e",
   "metadata": {},
   "outputs": [],
   "source": [
    "all_stopwords = nlp.Defaults.stop_words\n",
    "i = 1\n",
    "\n",
    "def remove_stopwords(title):\n",
    "    text_tokens = nlp( title )\n",
    "    tokens_without_sw = [word.text for word in text_tokens if not word in all_stopwords]\n",
    "    return( ' '.join( tokens_without_sw ))\n",
    "\n",
    "def get_word_vectors(words):\n",
    "    global i\n",
    "    i = i + 1\n",
    "    if i % 100 == 0:\n",
    "        print( i )\n",
    "    # converts a list of words into their word vectors\n",
    "    return [nlp(word).vector for word in words]"
   ]
  },
  {
   "cell_type": "code",
   "execution_count": 11,
   "id": "ec481751",
   "metadata": {},
   "outputs": [],
   "source": [
    "# start small...\n",
    "news_articles = news_articles[:1000]"
   ]
  },
  {
   "cell_type": "code",
   "execution_count": 12,
   "id": "133f1207",
   "metadata": {},
   "outputs": [
    {
     "name": "stdout",
     "output_type": "stream",
     "text": [
      "100\n",
      "200\n",
      "300\n",
      "400\n",
      "500\n",
      "600\n",
      "700\n",
      "800\n",
      "900\n",
      "1000\n"
     ]
    }
   ],
   "source": [
    "# remove stopwords\n",
    "news_articles[\"word_vectors\"] = news_articles[\"title\"].apply( lambda x: get_word_vectors( remove_stopwords( x )) )"
   ]
  },
  {
   "cell_type": "code",
   "execution_count": 13,
   "id": "bfa2d77e",
   "metadata": {},
   "outputs": [],
   "source": [
    "# to reduce to 2 dimensions\n",
    "from sklearn.decomposition import PCA\n",
    "\n",
    "pca = PCA( n_components=2 )\n",
    "\n",
    "def reducer(word_vectors):\n",
    "    pca.fit( word_vectors )\n",
    "    word_vecs_2d = pca.transform( word_vectors )\n",
    "    return( word_vecs_2d )\n"
   ]
  },
  {
   "cell_type": "code",
   "execution_count": 14,
   "id": "18606d51",
   "metadata": {},
   "outputs": [],
   "source": [
    "# reduce to 2 dimensions\n",
    "news_articles[\"word_vectors_2d\"] = news_articles[\"word_vectors\"].apply( lambda x: reducer( x ) )"
   ]
  },
  {
   "cell_type": "code",
   "execution_count": 15,
   "id": "c17fb162",
   "metadata": {},
   "outputs": [
    {
     "data": {
      "text/html": [
       "<div>\n",
       "<style scoped>\n",
       "    .dataframe tbody tr th:only-of-type {\n",
       "        vertical-align: middle;\n",
       "    }\n",
       "\n",
       "    .dataframe tbody tr th {\n",
       "        vertical-align: top;\n",
       "    }\n",
       "\n",
       "    .dataframe thead th {\n",
       "        text-align: right;\n",
       "    }\n",
       "</style>\n",
       "<table border=\"1\" class=\"dataframe\">\n",
       "  <thead>\n",
       "    <tr style=\"text-align: right;\">\n",
       "      <th></th>\n",
       "      <th>Unnamed: 0</th>\n",
       "      <th>id</th>\n",
       "      <th>title</th>\n",
       "      <th>publication</th>\n",
       "      <th>author</th>\n",
       "      <th>date</th>\n",
       "      <th>year</th>\n",
       "      <th>month</th>\n",
       "      <th>url</th>\n",
       "      <th>content</th>\n",
       "      <th>word_vectors</th>\n",
       "      <th>word_vectors_2d</th>\n",
       "    </tr>\n",
       "  </thead>\n",
       "  <tbody>\n",
       "    <tr>\n",
       "      <th>30936</th>\n",
       "      <td>30944</td>\n",
       "      <td>49709</td>\n",
       "      <td>“It’s the Bataan Death March”-Democratic White...</td>\n",
       "      <td>Breitbart</td>\n",
       "      <td>Breitbart News</td>\n",
       "      <td>2016-05-21</td>\n",
       "      <td>2016.0</td>\n",
       "      <td>5.0</td>\n",
       "      <td>NaN</td>\n",
       "      <td>advertisement</td>\n",
       "      <td>[[1.0420169, 0.12709321, 0.15162945, 0.2223444...</td>\n",
       "      <td>[[-0.888271043487767, -0.9503344111128138], [7...</td>\n",
       "    </tr>\n",
       "    <tr>\n",
       "      <th>39636</th>\n",
       "      <td>41147</td>\n",
       "      <td>60019</td>\n",
       "      <td>’’Santas’ march against South Korea’s impeache...</td>\n",
       "      <td>CNN</td>\n",
       "      <td>NaN</td>\n",
       "      <td>2016-12-24</td>\n",
       "      <td>2016.0</td>\n",
       "      <td>12.0</td>\n",
       "      <td>NaN</td>\n",
       "      <td>(CNN) Thousands of protesters, including some...</td>\n",
       "      <td>[[-1.0106193, 0.18087775, -0.03555146, 0.26973...</td>\n",
       "      <td>[[2.6020068553501243, 8.441647894107245], [2.6...</td>\n",
       "    </tr>\n",
       "    <tr>\n",
       "      <th>42781</th>\n",
       "      <td>45425</td>\n",
       "      <td>64400</td>\n",
       "      <td>’Zombieland’ blows up in Detroit</td>\n",
       "      <td>CNN</td>\n",
       "      <td>NaN</td>\n",
       "      <td>2015-07-11</td>\n",
       "      <td>2015.0</td>\n",
       "      <td>7.0</td>\n",
       "      <td>NaN</td>\n",
       "      <td>(CNN)”Zombieland” blew up. Detroit’s Park Ave...</td>\n",
       "      <td>[[-1.0106193, 0.18087775, -0.03555146, 0.26973...</td>\n",
       "      <td>[[1.7579184550029372, 9.411330182624862], [6.9...</td>\n",
       "    </tr>\n",
       "    <tr>\n",
       "      <th>40246</th>\n",
       "      <td>41971</td>\n",
       "      <td>60913</td>\n",
       "      <td>’Zombie cat’ presumed dead found alive after b...</td>\n",
       "      <td>CNN</td>\n",
       "      <td>Stephanie Gallman</td>\n",
       "      <td>2015-01-28</td>\n",
       "      <td>2015.0</td>\n",
       "      <td>1.0</td>\n",
       "      <td>NaN</td>\n",
       "      <td>(CNN) It’s like a plot line ripped from the s...</td>\n",
       "      <td>[[-1.0106193, 0.18087775, -0.03555146, 0.26973...</td>\n",
       "      <td>[[1.6676626415800517, -2.4144524585043], [7.33...</td>\n",
       "    </tr>\n",
       "    <tr>\n",
       "      <th>31249</th>\n",
       "      <td>31257</td>\n",
       "      <td>50022</td>\n",
       "      <td>’Zombie Mike’ Sought for Allegedly Raping a Wh...</td>\n",
       "      <td>Breitbart</td>\n",
       "      <td>Warner Todd Huston</td>\n",
       "      <td>2016-04-08</td>\n",
       "      <td>2016.0</td>\n",
       "      <td>4.0</td>\n",
       "      <td>NaN</td>\n",
       "      <td>A manhunt is under way for Michael Hawkins, kn...</td>\n",
       "      <td>[[-1.0106193, 0.18087775, -0.03555146, 0.26973...</td>\n",
       "      <td>[[1.0188343027372402, 2.006809156961334], [7.1...</td>\n",
       "    </tr>\n",
       "  </tbody>\n",
       "</table>\n",
       "</div>"
      ],
      "text/plain": [
       "       Unnamed: 0     id                                              title  \\\n",
       "30936       30944  49709  “It’s the Bataan Death March”-Democratic White...   \n",
       "39636       41147  60019  ’’Santas’ march against South Korea’s impeache...   \n",
       "42781       45425  64400                   ’Zombieland’ blows up in Detroit   \n",
       "40246       41971  60913  ’Zombie cat’ presumed dead found alive after b...   \n",
       "31249       31257  50022  ’Zombie Mike’ Sought for Allegedly Raping a Wh...   \n",
       "\n",
       "      publication              author        date    year  month  url  \\\n",
       "30936   Breitbart      Breitbart News  2016-05-21  2016.0    5.0  NaN   \n",
       "39636         CNN                 NaN  2016-12-24  2016.0   12.0  NaN   \n",
       "42781         CNN                 NaN  2015-07-11  2015.0    7.0  NaN   \n",
       "40246         CNN   Stephanie Gallman  2015-01-28  2015.0    1.0  NaN   \n",
       "31249   Breitbart  Warner Todd Huston  2016-04-08  2016.0    4.0  NaN   \n",
       "\n",
       "                                                 content  \\\n",
       "30936                                      advertisement   \n",
       "39636   (CNN) Thousands of protesters, including some...   \n",
       "42781   (CNN)”Zombieland” blew up. Detroit’s Park Ave...   \n",
       "40246   (CNN) It’s like a plot line ripped from the s...   \n",
       "31249  A manhunt is under way for Michael Hawkins, kn...   \n",
       "\n",
       "                                            word_vectors  \\\n",
       "30936  [[1.0420169, 0.12709321, 0.15162945, 0.2223444...   \n",
       "39636  [[-1.0106193, 0.18087775, -0.03555146, 0.26973...   \n",
       "42781  [[-1.0106193, 0.18087775, -0.03555146, 0.26973...   \n",
       "40246  [[-1.0106193, 0.18087775, -0.03555146, 0.26973...   \n",
       "31249  [[-1.0106193, 0.18087775, -0.03555146, 0.26973...   \n",
       "\n",
       "                                         word_vectors_2d  \n",
       "30936  [[-0.888271043487767, -0.9503344111128138], [7...  \n",
       "39636  [[2.6020068553501243, 8.441647894107245], [2.6...  \n",
       "42781  [[1.7579184550029372, 9.411330182624862], [6.9...  \n",
       "40246  [[1.6676626415800517, -2.4144524585043], [7.33...  \n",
       "31249  [[1.0188343027372402, 2.006809156961334], [7.1...  "
      ]
     },
     "execution_count": 15,
     "metadata": {},
     "output_type": "execute_result"
    }
   ],
   "source": [
    "news_articles.head()"
   ]
  },
  {
   "cell_type": "code",
   "execution_count": null,
   "id": "215735b9",
   "metadata": {},
   "outputs": [],
   "source": [
    "# ok let's save for safe keeping\n",
    "# ... just getting started\n",
    "\n",
    "news_articles.to_excel( 'article_2d_vectors.xlsx' )"
   ]
  },
  {
   "cell_type": "code",
   "execution_count": null,
   "id": "b448ebc5",
   "metadata": {},
   "outputs": [],
   "source": []
  },
  {
   "cell_type": "code",
   "execution_count": null,
   "id": "03387e24",
   "metadata": {},
   "outputs": [],
   "source": []
  }
 ],
 "metadata": {
  "kernelspec": {
   "display_name": "Python 3 (ipykernel)",
   "language": "python",
   "name": "python3"
  },
  "language_info": {
   "codemirror_mode": {
    "name": "ipython",
    "version": 3
   },
   "file_extension": ".py",
   "mimetype": "text/x-python",
   "name": "python",
   "nbconvert_exporter": "python",
   "pygments_lexer": "ipython3",
   "version": "3.9.2"
  }
 },
 "nbformat": 4,
 "nbformat_minor": 5
}
