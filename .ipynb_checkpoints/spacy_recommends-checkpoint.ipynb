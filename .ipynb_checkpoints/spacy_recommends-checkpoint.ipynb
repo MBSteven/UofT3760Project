{
 "cells": [
  {
   "cell_type": "code",
   "execution_count": 1,
   "id": "46d86aea",
   "metadata": {},
   "outputs": [],
   "source": [
    "# Recommendation engine using spaCy and cosine_difference\n",
    "##\n",
    "## initially trained on https://www.kaggle.com/datasets/snapcrack/all-the-news\n",
    "## with fields: ,id,title,publication,author,date,year,month,url,content\n",
    "## \n",
    "### using title only as a baseline model"
   ]
  },
  {
   "cell_type": "code",
   "execution_count": 2,
   "id": "036b6c5b",
   "metadata": {},
   "outputs": [],
   "source": [
    "import spacy\n",
    "import pandas as pd\n",
    "import numpy as np\n",
    "nlp = spacy.load('en_core_web_sm')"
   ]
  },
  {
   "cell_type": "code",
   "execution_count": 3,
   "id": "6316583a",
   "metadata": {},
   "outputs": [],
   "source": [
    "articles = pd.read_csv(\"../articles1.csv\" )"
   ]
  },
  {
   "cell_type": "code",
   "execution_count": 4,
   "id": "e39e7b20",
   "metadata": {},
   "outputs": [
    {
     "name": "stdout",
     "output_type": "stream",
     "text": [
      "<class 'pandas.core.frame.DataFrame'>\n",
      "RangeIndex: 50000 entries, 0 to 49999\n",
      "Data columns (total 10 columns):\n",
      " #   Column       Non-Null Count  Dtype  \n",
      "---  ------       --------------  -----  \n",
      " 0   Unnamed: 0   50000 non-null  int64  \n",
      " 1   id           50000 non-null  int64  \n",
      " 2   title        50000 non-null  object \n",
      " 3   publication  50000 non-null  object \n",
      " 4   author       43694 non-null  object \n",
      " 5   date         50000 non-null  object \n",
      " 6   year         50000 non-null  float64\n",
      " 7   month        50000 non-null  float64\n",
      " 8   url          0 non-null      float64\n",
      " 9   content      50000 non-null  object \n",
      "dtypes: float64(3), int64(2), object(5)\n",
      "memory usage: 3.8+ MB\n"
     ]
    }
   ],
   "source": [
    "# start small...\n",
    "#articles = articles[:500]\n",
    "\n",
    "articles.info()"
   ]
  },
  {
   "cell_type": "code",
   "execution_count": 5,
   "id": "e4e312a9",
   "metadata": {},
   "outputs": [
    {
     "data": {
      "text/html": [
       "<div>\n",
       "<style scoped>\n",
       "    .dataframe tbody tr th:only-of-type {\n",
       "        vertical-align: middle;\n",
       "    }\n",
       "\n",
       "    .dataframe tbody tr th {\n",
       "        vertical-align: top;\n",
       "    }\n",
       "\n",
       "    .dataframe thead th {\n",
       "        text-align: right;\n",
       "    }\n",
       "</style>\n",
       "<table border=\"1\" class=\"dataframe\">\n",
       "  <thead>\n",
       "    <tr style=\"text-align: right;\">\n",
       "      <th></th>\n",
       "      <th>Unnamed: 0</th>\n",
       "      <th>id</th>\n",
       "      <th>title</th>\n",
       "      <th>publication</th>\n",
       "      <th>author</th>\n",
       "      <th>date</th>\n",
       "      <th>year</th>\n",
       "      <th>month</th>\n",
       "      <th>url</th>\n",
       "      <th>content</th>\n",
       "    </tr>\n",
       "  </thead>\n",
       "  <tbody>\n",
       "    <tr>\n",
       "      <th>0</th>\n",
       "      <td>0</td>\n",
       "      <td>17283</td>\n",
       "      <td>House Republicans Fret About Winning Their Hea...</td>\n",
       "      <td>New York Times</td>\n",
       "      <td>Carl Hulse</td>\n",
       "      <td>2016-12-31</td>\n",
       "      <td>2016.0</td>\n",
       "      <td>12.0</td>\n",
       "      <td>NaN</td>\n",
       "      <td>WASHINGTON  —   Congressional Republicans have...</td>\n",
       "    </tr>\n",
       "    <tr>\n",
       "      <th>1</th>\n",
       "      <td>1</td>\n",
       "      <td>17284</td>\n",
       "      <td>Rift Between Officers and Residents as Killing...</td>\n",
       "      <td>New York Times</td>\n",
       "      <td>Benjamin Mueller and Al Baker</td>\n",
       "      <td>2017-06-19</td>\n",
       "      <td>2017.0</td>\n",
       "      <td>6.0</td>\n",
       "      <td>NaN</td>\n",
       "      <td>After the bullet shells get counted, the blood...</td>\n",
       "    </tr>\n",
       "    <tr>\n",
       "      <th>2</th>\n",
       "      <td>2</td>\n",
       "      <td>17285</td>\n",
       "      <td>Tyrus Wong, ‘Bambi’ Artist Thwarted by Racial ...</td>\n",
       "      <td>New York Times</td>\n",
       "      <td>Margalit Fox</td>\n",
       "      <td>2017-01-06</td>\n",
       "      <td>2017.0</td>\n",
       "      <td>1.0</td>\n",
       "      <td>NaN</td>\n",
       "      <td>When Walt Disney’s “Bambi” opened in 1942, cri...</td>\n",
       "    </tr>\n",
       "    <tr>\n",
       "      <th>3</th>\n",
       "      <td>3</td>\n",
       "      <td>17286</td>\n",
       "      <td>Among Deaths in 2016, a Heavy Toll in Pop Musi...</td>\n",
       "      <td>New York Times</td>\n",
       "      <td>William McDonald</td>\n",
       "      <td>2017-04-10</td>\n",
       "      <td>2017.0</td>\n",
       "      <td>4.0</td>\n",
       "      <td>NaN</td>\n",
       "      <td>Death may be the great equalizer, but it isn’t...</td>\n",
       "    </tr>\n",
       "    <tr>\n",
       "      <th>4</th>\n",
       "      <td>4</td>\n",
       "      <td>17287</td>\n",
       "      <td>Kim Jong-un Says North Korea Is Preparing to T...</td>\n",
       "      <td>New York Times</td>\n",
       "      <td>Choe Sang-Hun</td>\n",
       "      <td>2017-01-02</td>\n",
       "      <td>2017.0</td>\n",
       "      <td>1.0</td>\n",
       "      <td>NaN</td>\n",
       "      <td>SEOUL, South Korea  —   North Korea’s leader, ...</td>\n",
       "    </tr>\n",
       "  </tbody>\n",
       "</table>\n",
       "</div>"
      ],
      "text/plain": [
       "   Unnamed: 0     id                                              title  \\\n",
       "0           0  17283  House Republicans Fret About Winning Their Hea...   \n",
       "1           1  17284  Rift Between Officers and Residents as Killing...   \n",
       "2           2  17285  Tyrus Wong, ‘Bambi’ Artist Thwarted by Racial ...   \n",
       "3           3  17286  Among Deaths in 2016, a Heavy Toll in Pop Musi...   \n",
       "4           4  17287  Kim Jong-un Says North Korea Is Preparing to T...   \n",
       "\n",
       "      publication                         author        date    year  month  \\\n",
       "0  New York Times                     Carl Hulse  2016-12-31  2016.0   12.0   \n",
       "1  New York Times  Benjamin Mueller and Al Baker  2017-06-19  2017.0    6.0   \n",
       "2  New York Times                   Margalit Fox  2017-01-06  2017.0    1.0   \n",
       "3  New York Times               William McDonald  2017-04-10  2017.0    4.0   \n",
       "4  New York Times                  Choe Sang-Hun  2017-01-02  2017.0    1.0   \n",
       "\n",
       "   url                                            content  \n",
       "0  NaN  WASHINGTON  —   Congressional Republicans have...  \n",
       "1  NaN  After the bullet shells get counted, the blood...  \n",
       "2  NaN  When Walt Disney’s “Bambi” opened in 1942, cri...  \n",
       "3  NaN  Death may be the great equalizer, but it isn’t...  \n",
       "4  NaN  SEOUL, South Korea  —   North Korea’s leader, ...  "
      ]
     },
     "execution_count": 5,
     "metadata": {},
     "output_type": "execute_result"
    }
   ],
   "source": [
    "articles.head()"
   ]
  },
  {
   "cell_type": "code",
   "execution_count": 6,
   "id": "157fab0c",
   "metadata": {},
   "outputs": [
    {
     "data": {
      "text/plain": [
       "49868"
      ]
     },
     "execution_count": 6,
     "metadata": {},
     "output_type": "execute_result"
    }
   ],
   "source": [
    "# remove duplicates\n",
    "articles.sort_values( 'title', inplace=True, ascending=False )\n",
    "duplicated_articles = articles.duplicated( 'title', keep=False )\n",
    "news_articles = articles[~duplicated_articles]\n",
    "news_articles.shape[0]"
   ]
  },
  {
   "cell_type": "code",
   "execution_count": 7,
   "id": "1879e436",
   "metadata": {},
   "outputs": [
    {
     "data": {
      "text/plain": [
       "Unnamed: 0         0\n",
       "id                 0\n",
       "title              0\n",
       "publication        0\n",
       "author          6232\n",
       "date               0\n",
       "year               0\n",
       "month              0\n",
       "url            49868\n",
       "content            0\n",
       "dtype: int64"
      ]
     },
     "execution_count": 7,
     "metadata": {},
     "output_type": "execute_result"
    }
   ],
   "source": [
    "news_articles.isna().sum()"
   ]
  },
  {
   "cell_type": "code",
   "execution_count": 8,
   "id": "133f1207",
   "metadata": {},
   "outputs": [],
   "source": [
    "# remove stopwords\n",
    "\n",
    "all_stopwords = nlp.Defaults.stop_words\n",
    "\n",
    "def remove_stopwords(title):\n",
    "    text_tokens = nlp( title )\n",
    "    tokens_without_sw = [word.text for word in text_tokens if not word in all_stopwords]\n",
    "    return( ' '.join( tokens_without_sw ))\n",
    "\n",
    "fn = lambda row: remove_stopwords( row.title )\n",
    "col = news_articles.apply( fn, axis=1 )\n",
    "news_articles = news_articles.assign( title_clean=col.values )"
   ]
  },
  {
   "cell_type": "code",
   "execution_count": 9,
   "id": "da8fb504",
   "metadata": {},
   "outputs": [],
   "source": [
    "#add an index\n",
    "news_articles.insert( 0, 'index', range( 0, len( news_articles ) ))"
   ]
  },
  {
   "cell_type": "code",
   "execution_count": 10,
   "id": "b448ebc5",
   "metadata": {},
   "outputs": [],
   "source": [
    "# let's try CountVectorizer"
   ]
  },
  {
   "cell_type": "code",
   "execution_count": 11,
   "id": "03387e24",
   "metadata": {},
   "outputs": [],
   "source": [
    "from sklearn.feature_extraction.text import CountVectorizer\n",
    "#from sklearn.metrics import pairwise_distances\n",
    "from sklearn.metrics.pairwise import cosine_similarity\n"
   ]
  },
  {
   "cell_type": "code",
   "execution_count": 12,
   "id": "2832cd96",
   "metadata": {},
   "outputs": [],
   "source": [
    "cv = CountVectorizer()"
   ]
  },
  {
   "cell_type": "code",
   "execution_count": 13,
   "id": "1c937fc5",
   "metadata": {},
   "outputs": [
    {
     "data": {
      "text/plain": [
       "<49868x27333 sparse matrix of type '<class 'numpy.int64'>'\n",
       "\twith 544955 stored elements in Compressed Sparse Row format>"
      ]
     },
     "execution_count": 13,
     "metadata": {},
     "output_type": "execute_result"
    }
   ],
   "source": [
    "features = cv.fit_transform( news_articles.title_clean )\n",
    "cosine_sim = cosine_similarity( features )\n",
    "features\n",
    "#cosine_sim"
   ]
  },
  {
   "cell_type": "code",
   "execution_count": 14,
   "id": "32ea8466",
   "metadata": {},
   "outputs": [],
   "source": [
    "# inspired from https://medium.com/@sumanadhikari/building-a-movie-recommendation-engine-using-scikit-learn-8dbb11c5aa4b\n",
    "def get_title_from_index(index):\n",
    "    return news_articles[news_articles.index == index][\"title_clean\"].values[0]\n",
    "\n",
    "def get_index_from_title(title):\n",
    "    return news_articles[news_articles.title_clean == title][\"index\"].values[0]\n"
   ]
  },
  {
   "cell_type": "code",
   "execution_count": 15,
   "id": "4cb22632",
   "metadata": {},
   "outputs": [
    {
     "name": "stdout",
     "output_type": "stream",
     "text": [
      "50\n",
      "President Xi ’s Great Chinese Soccer Dream - The New York Times\n",
      "Similar to:\n",
      "(21523, 0.38805700005813276)\n",
      "Richard Armitage Plans to Vote for Hillary Clinton - Breitbart\n",
      "(16988, 0.3741657386773942)\n",
      "13 Shot at House Party in Gun - Controlled Connecticut - Breitbart\n",
      " \n",
      "51\n",
      "Tech Giants Seem Invincible . That Worries Lawmakers . - The New York Times\n",
      "Similar to:\n",
      "(42870, 0.40422604172722154)\n",
      "Solar power boom : Super - charge it ( Opinion )\n",
      "(2464, 0.38348249442368526)\n",
      "Photos of Jupiter From NASA Spacecraft , Both Near and Far - The New York Times\n",
      " \n",
      "52\n",
      "Chinese City Official Shoots 2 Others and Kills Himself , State Media Says - The New York Times\n",
      "Similar to:\n",
      "(7208, 0.8660254037844388)\n",
      "Hezbollah Says Military Leader Died in Artillery Attack - The New York Times\n",
      "(27128, 0.4564354645876385)\n",
      "Clift : Cruz ’ Did n’t Bow ’ To ’ Ethanol Gods ’ ’ Because He ’s in the Pocket of Big Oil ’ - Breitbart\n",
      " \n",
      "53\n",
      "Drop in Gang Violence Drove New York City Shootings Below 1,000 in 2016 - The New York Times\n",
      "Similar to:\n",
      "(2529, 0.41666666666666663)\n",
      "Sometimes , Spending Brings a Bigger Return Than Saving - The New York Times\n",
      "(21, 0.39317854974639244)\n",
      "Mariah Carey ’s Manager Blames Producers for New Year ’s Eve Nightmare - The New York Times\n",
      " \n",
      "54\n",
      "How ‘ Elites ’ Became One of the Nastiest Epithets in American Politics - The New York Times\n",
      "Similar to:\n",
      "(8521, 0.5163977794943222)\n",
      "Debbie Wasserman Schultz : Federal Government May Ban Passengers from Checking Guns in Baggage\n",
      "(32203, 0.47809144373375745)\n",
      "With Obama gone , it ’s time for comprehensive immigration reform\n",
      " \n"
     ]
    }
   ],
   "source": [
    "offset = 50\n",
    "counter = 5\n",
    "\n",
    "for i in range(counter):\n",
    "    print( i+offset )\n",
    "    print( get_title_from_index(i+offset) )\n",
    "    index = get_index_from_title( news_articles.iloc[i+offset].title_clean )\n",
    "    similar = list( enumerate( cosine_sim[index] ))\n",
    "    sorted_similar = sorted( similar, key=lambda x:x[1], reverse=True )\n",
    "    print( \"Similar to:\" )\n",
    "    print( sorted_similar[1] )\n",
    "    print( get_title_from_index( sorted_similar[1][0] ))\n",
    "    print( sorted_similar[2] )\n",
    "    print( get_title_from_index( sorted_similar[2][0] ))\n",
    "    print( \" \" )\n",
    "    "
   ]
  },
  {
   "cell_type": "code",
   "execution_count": null,
   "id": "b749f12a",
   "metadata": {},
   "outputs": [],
   "source": []
  },
  {
   "cell_type": "code",
   "execution_count": null,
   "id": "954fef58",
   "metadata": {},
   "outputs": [],
   "source": []
  }
 ],
 "metadata": {
  "kernelspec": {
   "display_name": "Python 3 (ipykernel)",
   "language": "python",
   "name": "python3"
  },
  "language_info": {
   "codemirror_mode": {
    "name": "ipython",
    "version": 3
   },
   "file_extension": ".py",
   "mimetype": "text/x-python",
   "name": "python",
   "nbconvert_exporter": "python",
   "pygments_lexer": "ipython3",
   "version": "3.9.2"
  }
 },
 "nbformat": 4,
 "nbformat_minor": 5
}
