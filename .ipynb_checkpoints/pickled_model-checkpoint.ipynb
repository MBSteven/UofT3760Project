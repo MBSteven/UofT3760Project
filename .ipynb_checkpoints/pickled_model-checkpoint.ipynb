{
 "cells": [
  {
   "cell_type": "code",
   "execution_count": 1,
   "id": "6632f360-5c27-4099-a773-6955b28d671e",
   "metadata": {},
   "outputs": [],
   "source": [
    "import numpy as np\n",
    "import pandas as pd\n",
    "import os\n",
    "import datetime\n",
    "import pickle\n",
    "import nltk\n",
    "from nltk.corpus import stopwords\n",
    "from nltk.tokenize import word_tokenize\n",
    "from nltk.stem import WordNetLemmatizer\n",
    "# Below libraries are for feature representation using sklearn\n",
    "from sklearn.feature_extraction.text import CountVectorizer\n",
    "from sklearn.feature_extraction.text import TfidfVectorizer\n",
    "# Below libraries are for similarity matrices using sklearn\n",
    "from sklearn.metrics.pairwise import cosine_similarity  \n",
    "from sklearn.metrics import pairwise_distances"
   ]
  },
  {
   "cell_type": "code",
   "execution_count": 2,
   "id": "b7ea20ac-0c01-4fe0-b736-409a3fb52b6c",
   "metadata": {},
   "outputs": [],
   "source": [
    "filename_w2v = '../recommends_model_w2v.sav'\n",
    "filename_authors = '../recommends_model_authors.sav'\n",
    "filename_category = '../recommends_model_category.sav'\n",
    "filename_pubday = '../recommends_model_pubday.sav'\n",
    "tfidf_text_features = pickle.load( open( filename_w2v, 'rb' ))\n",
    "authors_onehot_encoded = pickle.load( open( filename_authors, 'rb' ))\n",
    "category_onehot_encoded = pickle.load( open( filename_category, 'rb' ))\n",
    "publishingday_onehot_encoded = pickle.load( open( filename_pubday, 'rb' ))"
   ]
  },
  {
   "cell_type": "code",
   "execution_count": 3,
   "id": "2e6b7f9a-0b50-4710-8b0d-05f21f143540",
   "metadata": {},
   "outputs": [],
   "source": [
    "# load data\n",
    "#news_articles_1 = pd.DataFrame()\n",
    "news_articles_1 = pd.read_json( \"../News_Category_Dataset_v2.json\", lines = True )\n",
    "\n",
    "news_articles_2a = pd.read_csv( \"../articles1.csv\" )\n",
    "news_articles_2b = pd.read_csv( \"../articles2.csv\" )\n",
    "news_articles_2c = pd.read_csv( \"../articles3.csv\" )\n",
    "news_articles_2 = pd.concat( [news_articles_2a, news_articles_2b, news_articles_2c], ignore_index=True )\n",
    "#news_articles_2 = pd.concat( [news_articles_2a], ignore_index=True )"
   ]
  },
  {
   "cell_type": "code",
   "execution_count": 4,
   "id": "b533cf14-8ef5-4ef7-acaf-fe19284d8a66",
   "metadata": {},
   "outputs": [],
   "source": [
    "# empty dataframe for our trained data\n",
    "news_articles = pd.DataFrame( columns=[\n",
    "    'id', 'category', 'headline', 'description', \n",
    "    'authors', 'publication', 'date', 'link' ] )\n",
    "\n",
    "# clean our source data\n",
    "# all this source data needs to be moved to BigQuery and sourced from there\n",
    "news_articles_1.rename( columns={'short_description': 'description'}, inplace=True )\n",
    "news_articles_1.insert( 0, 'id', range( 0, len( news_articles_1 ) ))\n",
    "news_articles_1[\"publication\"] = \"unknown\"\n",
    "news_articles_2.rename( columns={'title': 'headline'}, inplace=True )\n",
    "news_articles_2.rename( columns={'url': 'link'}, inplace=True )\n",
    "news_articles_2.rename( columns={'content': 'description'}, inplace=True )\n",
    "news_articles_2.rename( columns={'author': 'authors'}, inplace=True )\n",
    "news_articles_2.drop( columns=['year', 'month'], inplace=True )\n",
    "news_articles_2[\"category\"] = \"unknown\"\n",
    "news_articles_2['date'] = pd.to_datetime(news_articles_2['date'], format='%Y-%m-%d' )\n",
    "\n",
    "# combine sources\n",
    "news_articles = pd.concat( [news_articles_1, news_articles_2], ignore_index=True )\n",
    "\n",
    "# reduce author name(s), publisher, and category fields to single string\n",
    "news_articles['authors'] = news_articles['authors'].str.replace(\" \",\"\")\n",
    "news_articles['publication'] = news_articles['publication'].str.replace(\" \",\"\")\n",
    "news_articles['category'] = news_articles['category'].str.replace(\" \",\"\")\n",
    "\n",
    "# and create combined headline and description to lemma\n",
    "news_articles['text'] = news_articles['headline'] + \" \" + news_articles['description']\n"
   ]
  },
  {
   "cell_type": "code",
   "execution_count": null,
   "id": "563e96c0-3e9e-4a38-a6e2-84d5eb366670",
   "metadata": {},
   "outputs": [],
   "source": []
  },
  {
   "cell_type": "code",
   "execution_count": null,
   "id": "4f7bc06e-c77f-4af4-9601-c96008e1a198",
   "metadata": {},
   "outputs": [],
   "source": []
  },
  {
   "cell_type": "code",
   "execution_count": 6,
   "id": "8314b780-7c9c-40e5-9867-1592082ea02e",
   "metadata": {},
   "outputs": [],
   "source": [
    "def tfidf_based_model(row_index, num_similar_items=6):\n",
    "    couple_dist = pairwise_distances(tfidf_text_features,tfidf_text_features[row_index])\n",
    "    indices = np.argsort(couple_dist.ravel())[0:num_similar_items]\n",
    "    df = pd.DataFrame({'publish_date': news_articles['date'][indices].values,\n",
    "               'text':news_articles['text'][indices].values,\n",
    "                'Euclidean similarity with the queried article': couple_dist[indices].ravel()})\n",
    "    #print(\"=\"*30,\"Queried article details\",\"=\"*30)\n",
    "    print('text : ',news_articles['text'][indices[0]])\n",
    "    #print(\"\\n\",\"=\"*25,\"Recommended articles : \",\"=\"*23)\n",
    "    \n",
    "    #return df.iloc[1:,1]\n",
    "    return df.iloc[1:,]"
   ]
  },
  {
   "cell_type": "code",
   "execution_count": 7,
   "id": "9848199a-c2e5-4fbb-adaa-319409acfb2c",
   "metadata": {},
   "outputs": [
    {
     "name": "stdout",
     "output_type": "stream",
     "text": [
      "text :  Hugh Grant Marries For The First Time At Age 57 The actor and his longtime girlfriend Anna Eberstein tied the knot in a civil ceremony.\n"
     ]
    },
    {
     "data": {
      "text/html": [
       "<div>\n",
       "<style scoped>\n",
       "    .dataframe tbody tr th:only-of-type {\n",
       "        vertical-align: middle;\n",
       "    }\n",
       "\n",
       "    .dataframe tbody tr th {\n",
       "        vertical-align: top;\n",
       "    }\n",
       "\n",
       "    .dataframe thead th {\n",
       "        text-align: right;\n",
       "    }\n",
       "</style>\n",
       "<table border=\"1\" class=\"dataframe\">\n",
       "  <thead>\n",
       "    <tr style=\"text-align: right;\">\n",
       "      <th></th>\n",
       "      <th>publish_date</th>\n",
       "      <th>text</th>\n",
       "      <th>Euclidean similarity with the queried article</th>\n",
       "    </tr>\n",
       "  </thead>\n",
       "  <tbody>\n",
       "    <tr>\n",
       "      <th>1</th>\n",
       "      <td>2015-09-20</td>\n",
       "      <td>Richard Dawkins Accuses Ahmed Mohamed Of Commi...</td>\n",
       "      <td>0.475123</td>\n",
       "    </tr>\n",
       "    <tr>\n",
       "      <th>2</th>\n",
       "      <td>2016-12-08</td>\n",
       "      <td>Trump the Progressive ‘Progressive” is a funny...</td>\n",
       "      <td>0.698914</td>\n",
       "    </tr>\n",
       "    <tr>\n",
       "      <th>3</th>\n",
       "      <td>2016-12-08</td>\n",
       "      <td>The Pro-Choice Movement’s Overblown Fear of a ...</td>\n",
       "      <td>0.717112</td>\n",
       "    </tr>\n",
       "    <tr>\n",
       "      <th>4</th>\n",
       "      <td>2017-01-11</td>\n",
       "      <td>These 9 Foods Are Loaded With B-12, And Here's...</td>\n",
       "      <td>0.720067</td>\n",
       "    </tr>\n",
       "    <tr>\n",
       "      <th>5</th>\n",
       "      <td>2017-04-26</td>\n",
       "      <td>Bill Cosby's Daughter Writes Letter In His Def...</td>\n",
       "      <td>0.723536</td>\n",
       "    </tr>\n",
       "  </tbody>\n",
       "</table>\n",
       "</div>"
      ],
      "text/plain": [
       "  publish_date                                               text  \\\n",
       "1   2015-09-20  Richard Dawkins Accuses Ahmed Mohamed Of Commi...   \n",
       "2   2016-12-08  Trump the Progressive ‘Progressive” is a funny...   \n",
       "3   2016-12-08  The Pro-Choice Movement’s Overblown Fear of a ...   \n",
       "4   2017-01-11  These 9 Foods Are Loaded With B-12, And Here's...   \n",
       "5   2017-04-26  Bill Cosby's Daughter Writes Letter In His Def...   \n",
       "\n",
       "   Euclidean similarity with the queried article  \n",
       "1                                       0.475123  \n",
       "2                                       0.698914  \n",
       "3                                       0.717112  \n",
       "4                                       0.720067  \n",
       "5                                       0.723536  "
      ]
     },
     "execution_count": 7,
     "metadata": {},
     "output_type": "execute_result"
    }
   ],
   "source": [
    "tfidf_based_model(2)"
   ]
  },
  {
   "cell_type": "code",
   "execution_count": 8,
   "id": "67796d81-f870-4493-ae4c-f101e2fa6a75",
   "metadata": {},
   "outputs": [
    {
     "name": "stdout",
     "output_type": "stream",
     "text": [
      "text :  Morgan Freeman 'Devastated' That Sexual Harassment Claims Could Undermine Legacy \"It is not right to equate horrific incidents of sexual assault with misplaced compliments or humor,\" he said in a statement.\n"
     ]
    },
    {
     "data": {
      "text/html": [
       "<div>\n",
       "<style scoped>\n",
       "    .dataframe tbody tr th:only-of-type {\n",
       "        vertical-align: middle;\n",
       "    }\n",
       "\n",
       "    .dataframe tbody tr th {\n",
       "        vertical-align: top;\n",
       "    }\n",
       "\n",
       "    .dataframe thead th {\n",
       "        text-align: right;\n",
       "    }\n",
       "</style>\n",
       "<table border=\"1\" class=\"dataframe\">\n",
       "  <thead>\n",
       "    <tr style=\"text-align: right;\">\n",
       "      <th></th>\n",
       "      <th>publish_date</th>\n",
       "      <th>text</th>\n",
       "      <th>Euclidean similarity with the queried article</th>\n",
       "    </tr>\n",
       "  </thead>\n",
       "  <tbody>\n",
       "    <tr>\n",
       "      <th>1</th>\n",
       "      <td>2016-04-06</td>\n",
       "      <td>Anita Hill On Why Her Testimony Still Matters ...</td>\n",
       "      <td>0.767207</td>\n",
       "    </tr>\n",
       "    <tr>\n",
       "      <th>2</th>\n",
       "      <td>2017-02-04</td>\n",
       "      <td>On Field and in Hometown, Neymar Tries to Chan...</td>\n",
       "      <td>0.845699</td>\n",
       "    </tr>\n",
       "    <tr>\n",
       "      <th>3</th>\n",
       "      <td>2016-09-19</td>\n",
       "      <td>After 22 years, the Rams are back in LA. Was i...</td>\n",
       "      <td>0.854314</td>\n",
       "    </tr>\n",
       "    <tr>\n",
       "      <th>4</th>\n",
       "      <td>2016-02-28</td>\n",
       "      <td>The Terror Group That Could Ruin Syria's Cease...</td>\n",
       "      <td>0.869222</td>\n",
       "    </tr>\n",
       "    <tr>\n",
       "      <th>5</th>\n",
       "      <td>2016-01-13</td>\n",
       "      <td>Stinging Report On Pandemics Makes Louis Paste...</td>\n",
       "      <td>0.874183</td>\n",
       "    </tr>\n",
       "  </tbody>\n",
       "</table>\n",
       "</div>"
      ],
      "text/plain": [
       "  publish_date                                               text  \\\n",
       "1   2016-04-06  Anita Hill On Why Her Testimony Still Matters ...   \n",
       "2   2017-02-04  On Field and in Hometown, Neymar Tries to Chan...   \n",
       "3   2016-09-19  After 22 years, the Rams are back in LA. Was i...   \n",
       "4   2016-02-28  The Terror Group That Could Ruin Syria's Cease...   \n",
       "5   2016-01-13  Stinging Report On Pandemics Makes Louis Paste...   \n",
       "\n",
       "   Euclidean similarity with the queried article  \n",
       "1                                       0.767207  \n",
       "2                                       0.845699  \n",
       "3                                       0.854314  \n",
       "4                                       0.869222  \n",
       "5                                       0.874183  "
      ]
     },
     "execution_count": 8,
     "metadata": {},
     "output_type": "execute_result"
    }
   ],
   "source": [
    "tfidf_based_model(5)"
   ]
  },
  {
   "cell_type": "code",
   "execution_count": 9,
   "id": "bed96e2b-aa3a-4932-91d2-768d93a84798",
   "metadata": {},
   "outputs": [
    {
     "name": "stdout",
     "output_type": "stream",
     "text": [
      "text :  The No. 2 Question In 'Westworld' Finally Has An Answer One mystery remained in the bowels of the park until we talked to Steven Ogg.\n"
     ]
    },
    {
     "data": {
      "text/html": [
       "<div>\n",
       "<style scoped>\n",
       "    .dataframe tbody tr th:only-of-type {\n",
       "        vertical-align: middle;\n",
       "    }\n",
       "\n",
       "    .dataframe tbody tr th {\n",
       "        vertical-align: top;\n",
       "    }\n",
       "\n",
       "    .dataframe thead th {\n",
       "        text-align: right;\n",
       "    }\n",
       "</style>\n",
       "<table border=\"1\" class=\"dataframe\">\n",
       "  <thead>\n",
       "    <tr style=\"text-align: right;\">\n",
       "      <th></th>\n",
       "      <th>publish_date</th>\n",
       "      <th>text</th>\n",
       "      <th>Euclidean similarity with the queried article</th>\n",
       "    </tr>\n",
       "  </thead>\n",
       "  <tbody>\n",
       "    <tr>\n",
       "      <th>1</th>\n",
       "      <td>2016-08-28</td>\n",
       "      <td>How A Tiny Crippled Street Dog 'Spoke' And Fou...</td>\n",
       "      <td>0.961404</td>\n",
       "    </tr>\n",
       "    <tr>\n",
       "      <th>2</th>\n",
       "      <td>2014-06-12</td>\n",
       "      <td>Lend These Guys $17,000 And Get Free Burritos ...</td>\n",
       "      <td>0.963081</td>\n",
       "    </tr>\n",
       "    <tr>\n",
       "      <th>3</th>\n",
       "      <td>2017-02-01</td>\n",
       "      <td>The Filibuster: A Senator’s Best Friend A Faus...</td>\n",
       "      <td>0.988326</td>\n",
       "    </tr>\n",
       "    <tr>\n",
       "      <th>4</th>\n",
       "      <td>2016-12-22</td>\n",
       "      <td>Drink: forget claret, champagne and port – the...</td>\n",
       "      <td>1.000000</td>\n",
       "    </tr>\n",
       "    <tr>\n",
       "      <th>5</th>\n",
       "      <td>2017-01-25</td>\n",
       "      <td>‘Choose Facebook, revenge porn, zero hours’: w...</td>\n",
       "      <td>1.000000</td>\n",
       "    </tr>\n",
       "  </tbody>\n",
       "</table>\n",
       "</div>"
      ],
      "text/plain": [
       "  publish_date                                               text  \\\n",
       "1   2016-08-28  How A Tiny Crippled Street Dog 'Spoke' And Fou...   \n",
       "2   2014-06-12  Lend These Guys $17,000 And Get Free Burritos ...   \n",
       "3   2017-02-01  The Filibuster: A Senator’s Best Friend A Faus...   \n",
       "4   2016-12-22  Drink: forget claret, champagne and port – the...   \n",
       "5   2017-01-25  ‘Choose Facebook, revenge porn, zero hours’: w...   \n",
       "\n",
       "   Euclidean similarity with the queried article  \n",
       "1                                       0.961404  \n",
       "2                                       0.963081  \n",
       "3                                       0.988326  \n",
       "4                                       1.000000  \n",
       "5                                       1.000000  "
      ]
     },
     "execution_count": 9,
     "metadata": {},
     "output_type": "execute_result"
    }
   ],
   "source": [
    "tfidf_based_model(2000)"
   ]
  },
  {
   "cell_type": "code",
   "execution_count": null,
   "id": "0f763d21-90fb-4ba6-8950-ccd09476eaf3",
   "metadata": {},
   "outputs": [],
   "source": []
  }
 ],
 "metadata": {
  "kernelspec": {
   "display_name": "Python 3 (ipykernel)",
   "language": "python",
   "name": "python3"
  },
  "language_info": {
   "codemirror_mode": {
    "name": "ipython",
    "version": 3
   },
   "file_extension": ".py",
   "mimetype": "text/x-python",
   "name": "python",
   "nbconvert_exporter": "python",
   "pygments_lexer": "ipython3",
   "version": "3.9.2"
  }
 },
 "nbformat": 4,
 "nbformat_minor": 5
}
