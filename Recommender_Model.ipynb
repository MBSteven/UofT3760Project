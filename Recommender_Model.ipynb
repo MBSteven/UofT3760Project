{
 "cells": [
  {
   "cell_type": "code",
   "execution_count": 1,
   "id": "edc768fc",
   "metadata": {},
   "outputs": [],
   "source": [
    "import numpy as np\n",
    "import pandas as pd\n",
    "import os\n",
    "import math\n",
    "import time\n",
    "import matplotlib.pyplot as plt\n",
    "import seaborn as sns\n",
    "import plotly.figure_factory as ff\n",
    "import plotly.graph_objects as go\n",
    "import plotly.express as px\n",
    "from nltk.corpus import stopwords\n",
    "from nltk.tokenize import word_tokenize\n",
    "from nltk.stem import WordNetLemmatizer\n",
    "# Below libraries are for feature representation using sklearn\n",
    "from sklearn.feature_extraction.text import CountVectorizer\n",
    "from sklearn.feature_extraction.text import TfidfVectorizer\n",
    "\n",
    "# Below libraries are for similarity matrices using sklearn\n",
    "from sklearn.metrics.pairwise import cosine_similarity  \n",
    "from sklearn.metrics import pairwise_distances"
   ]
  },
  {
   "cell_type": "code",
   "execution_count": 2,
   "id": "f7ee30f5",
   "metadata": {},
   "outputs": [
    {
     "name": "stderr",
     "output_type": "stream",
     "text": [
      "[nltk_data] Error loading stopwords: <urlopen error [SSL:\n",
      "[nltk_data]     CERTIFICATE_VERIFY_FAILED] certificate verify failed:\n",
      "[nltk_data]     self signed certificate in certificate chain\n",
      "[nltk_data]     (_ssl.c:1129)>\n",
      "[nltk_data] Error loading punkt: <urlopen error [SSL:\n",
      "[nltk_data]     CERTIFICATE_VERIFY_FAILED] certificate verify failed:\n",
      "[nltk_data]     self signed certificate in certificate chain\n",
      "[nltk_data]     (_ssl.c:1129)>\n",
      "[nltk_data] Error loading wordnet: <urlopen error [SSL:\n",
      "[nltk_data]     CERTIFICATE_VERIFY_FAILED] certificate verify failed:\n",
      "[nltk_data]     self signed certificate in certificate chain\n",
      "[nltk_data]     (_ssl.c:1129)>\n"
     ]
    },
    {
     "data": {
      "text/plain": [
       "False"
      ]
     },
     "execution_count": 2,
     "metadata": {},
     "output_type": "execute_result"
    }
   ],
   "source": [
    "import nltk\n",
    "nltk.download('stopwords')\n",
    "nltk.download('punkt')\n",
    "nltk.download('wordnet')"
   ]
  },
  {
   "cell_type": "code",
   "execution_count": 3,
   "id": "2c0bff65",
   "metadata": {},
   "outputs": [],
   "source": [
    "news_articles = pd.read_json(\"News_Category_Dataset_v2.json\", lines = True)"
   ]
  },
  {
   "cell_type": "code",
   "execution_count": 4,
   "id": "caa664b3",
   "metadata": {},
   "outputs": [],
   "source": [
    "news_articles.rename(columns={'short_description': 'description'}, inplace=True)"
   ]
  },
  {
   "cell_type": "code",
   "execution_count": 5,
   "id": "912c74e2",
   "metadata": {},
   "outputs": [
    {
     "name": "stdout",
     "output_type": "stream",
     "text": [
      "<class 'pandas.core.frame.DataFrame'>\n",
      "RangeIndex: 200853 entries, 0 to 200852\n",
      "Data columns (total 6 columns):\n",
      " #   Column       Non-Null Count   Dtype         \n",
      "---  ------       --------------   -----         \n",
      " 0   category     200853 non-null  object        \n",
      " 1   headline     200853 non-null  object        \n",
      " 2   authors      200853 non-null  object        \n",
      " 3   link         200853 non-null  object        \n",
      " 4   description  200853 non-null  object        \n",
      " 5   date         200853 non-null  datetime64[ns]\n",
      "dtypes: datetime64[ns](1), object(5)\n",
      "memory usage: 9.2+ MB\n"
     ]
    }
   ],
   "source": [
    "news_articles.info()"
   ]
  },
  {
   "cell_type": "code",
   "execution_count": 6,
   "id": "a0027df7",
   "metadata": {},
   "outputs": [
    {
     "data": {
      "text/html": [
       "<div>\n",
       "<style scoped>\n",
       "    .dataframe tbody tr th:only-of-type {\n",
       "        vertical-align: middle;\n",
       "    }\n",
       "\n",
       "    .dataframe tbody tr th {\n",
       "        vertical-align: top;\n",
       "    }\n",
       "\n",
       "    .dataframe thead th {\n",
       "        text-align: right;\n",
       "    }\n",
       "</style>\n",
       "<table border=\"1\" class=\"dataframe\">\n",
       "  <thead>\n",
       "    <tr style=\"text-align: right;\">\n",
       "      <th></th>\n",
       "      <th>category</th>\n",
       "      <th>headline</th>\n",
       "      <th>authors</th>\n",
       "      <th>link</th>\n",
       "      <th>description</th>\n",
       "      <th>date</th>\n",
       "    </tr>\n",
       "  </thead>\n",
       "  <tbody>\n",
       "    <tr>\n",
       "      <th>0</th>\n",
       "      <td>CRIME</td>\n",
       "      <td>There Were 2 Mass Shootings In Texas Last Week...</td>\n",
       "      <td>Melissa Jeltsen</td>\n",
       "      <td>https://www.huffingtonpost.com/entry/texas-ama...</td>\n",
       "      <td>She left her husband. He killed their children...</td>\n",
       "      <td>2018-05-26</td>\n",
       "    </tr>\n",
       "    <tr>\n",
       "      <th>1</th>\n",
       "      <td>ENTERTAINMENT</td>\n",
       "      <td>Will Smith Joins Diplo And Nicky Jam For The 2...</td>\n",
       "      <td>Andy McDonald</td>\n",
       "      <td>https://www.huffingtonpost.com/entry/will-smit...</td>\n",
       "      <td>Of course it has a song.</td>\n",
       "      <td>2018-05-26</td>\n",
       "    </tr>\n",
       "    <tr>\n",
       "      <th>2</th>\n",
       "      <td>ENTERTAINMENT</td>\n",
       "      <td>Hugh Grant Marries For The First Time At Age 57</td>\n",
       "      <td>Ron Dicker</td>\n",
       "      <td>https://www.huffingtonpost.com/entry/hugh-gran...</td>\n",
       "      <td>The actor and his longtime girlfriend Anna Ebe...</td>\n",
       "      <td>2018-05-26</td>\n",
       "    </tr>\n",
       "    <tr>\n",
       "      <th>3</th>\n",
       "      <td>ENTERTAINMENT</td>\n",
       "      <td>Jim Carrey Blasts 'Castrato' Adam Schiff And D...</td>\n",
       "      <td>Ron Dicker</td>\n",
       "      <td>https://www.huffingtonpost.com/entry/jim-carre...</td>\n",
       "      <td>The actor gives Dems an ass-kicking for not fi...</td>\n",
       "      <td>2018-05-26</td>\n",
       "    </tr>\n",
       "    <tr>\n",
       "      <th>4</th>\n",
       "      <td>ENTERTAINMENT</td>\n",
       "      <td>Julianna Margulies Uses Donald Trump Poop Bags...</td>\n",
       "      <td>Ron Dicker</td>\n",
       "      <td>https://www.huffingtonpost.com/entry/julianna-...</td>\n",
       "      <td>The \"Dietland\" actress said using the bags is ...</td>\n",
       "      <td>2018-05-26</td>\n",
       "    </tr>\n",
       "  </tbody>\n",
       "</table>\n",
       "</div>"
      ],
      "text/plain": [
       "        category                                           headline  \\\n",
       "0          CRIME  There Were 2 Mass Shootings In Texas Last Week...   \n",
       "1  ENTERTAINMENT  Will Smith Joins Diplo And Nicky Jam For The 2...   \n",
       "2  ENTERTAINMENT    Hugh Grant Marries For The First Time At Age 57   \n",
       "3  ENTERTAINMENT  Jim Carrey Blasts 'Castrato' Adam Schiff And D...   \n",
       "4  ENTERTAINMENT  Julianna Margulies Uses Donald Trump Poop Bags...   \n",
       "\n",
       "           authors                                               link  \\\n",
       "0  Melissa Jeltsen  https://www.huffingtonpost.com/entry/texas-ama...   \n",
       "1    Andy McDonald  https://www.huffingtonpost.com/entry/will-smit...   \n",
       "2       Ron Dicker  https://www.huffingtonpost.com/entry/hugh-gran...   \n",
       "3       Ron Dicker  https://www.huffingtonpost.com/entry/jim-carre...   \n",
       "4       Ron Dicker  https://www.huffingtonpost.com/entry/julianna-...   \n",
       "\n",
       "                                         description       date  \n",
       "0  She left her husband. He killed their children... 2018-05-26  \n",
       "1                           Of course it has a song. 2018-05-26  \n",
       "2  The actor and his longtime girlfriend Anna Ebe... 2018-05-26  \n",
       "3  The actor gives Dems an ass-kicking for not fi... 2018-05-26  \n",
       "4  The \"Dietland\" actress said using the bags is ... 2018-05-26  "
      ]
     },
     "execution_count": 6,
     "metadata": {},
     "output_type": "execute_result"
    }
   ],
   "source": [
    "news_articles.head()"
   ]
  },
  {
   "cell_type": "code",
   "execution_count": 7,
   "id": "4a297b72",
   "metadata": {},
   "outputs": [],
   "source": [
    "news_articles = news_articles[news_articles['date'] >= pd.Timestamp(2018,1,1)]"
   ]
  },
  {
   "cell_type": "code",
   "execution_count": 8,
   "id": "2a2e20ca",
   "metadata": {},
   "outputs": [
    {
     "data": {
      "text/plain": [
       "(8583, 6)"
      ]
     },
     "execution_count": 8,
     "metadata": {},
     "output_type": "execute_result"
    }
   ],
   "source": [
    "news_articles.shape"
   ]
  },
  {
   "cell_type": "code",
   "execution_count": 9,
   "id": "0f2ea6a6",
   "metadata": {},
   "outputs": [
    {
     "name": "stdout",
     "output_type": "stream",
     "text": [
      "Total number of articles after removal of description with short title: 7854\n"
     ]
    }
   ],
   "source": [
    "news_articles = news_articles[news_articles['description'].apply(lambda x: len(x.split())>5)]\n",
    "print(\"Total number of articles after removal of description with short title:\", news_articles.shape[0])"
   ]
  },
  {
   "cell_type": "code",
   "execution_count": 10,
   "id": "09ba9872",
   "metadata": {},
   "outputs": [
    {
     "name": "stdout",
     "output_type": "stream",
     "text": [
      "Total number of articles after removing duplicates: 7828\n"
     ]
    }
   ],
   "source": [
    "news_articles.sort_values('description',inplace=True, ascending=False)\n",
    "duplicated_articles_series = news_articles.duplicated('description', keep = False)\n",
    "news_articles = news_articles[~duplicated_articles_series]\n",
    "print(\"Total number of articles after removing duplicates:\", news_articles.shape[0])"
   ]
  },
  {
   "cell_type": "code",
   "execution_count": 11,
   "id": "bff233f0",
   "metadata": {},
   "outputs": [],
   "source": [
    "news_articles.index = range(news_articles.shape[0])"
   ]
  },
  {
   "cell_type": "code",
   "execution_count": 12,
   "id": "10a3a200",
   "metadata": {},
   "outputs": [],
   "source": [
    "# Adding a new column containing both day of the week and month, it will be required later while recommending based on day of the week and month\n",
    "news_articles[\"day and month\"] = news_articles[\"date\"].dt.strftime(\"%a\") + \"_\" + news_articles[\"date\"].dt.strftime(\"%b\")"
   ]
  },
  {
   "cell_type": "code",
   "execution_count": 13,
   "id": "1b6e9bab",
   "metadata": {},
   "outputs": [],
   "source": [
    "news_articles_temp = news_articles.copy()"
   ]
  },
  {
   "cell_type": "code",
   "execution_count": 14,
   "id": "4c02676d",
   "metadata": {},
   "outputs": [],
   "source": [
    "stop_words = set(stopwords.words('english'))"
   ]
  },
  {
   "cell_type": "code",
   "execution_count": 15,
   "id": "5f60ab12",
   "metadata": {},
   "outputs": [
    {
     "name": "stdout",
     "output_type": "stream",
     "text": [
      "0\n",
      "1000\n",
      "2000\n",
      "3000\n",
      "4000\n",
      "5000\n",
      "6000\n",
      "7000\n"
     ]
    }
   ],
   "source": [
    "for i in range(len(news_articles_temp[\"description\"])):\n",
    "    string = \"\"\n",
    "    for word in news_articles_temp[\"description\"][i].split():\n",
    "        #print(word)\n",
    "        word = (\"\".join(e for e in word if e.isalnum()))\n",
    "        word = word.lower()\n",
    "        if not word in stop_words:\n",
    "          string += word + \" \"  \n",
    "    if(i%1000==0):\n",
    "      print(i)           # To track number of records processed\n",
    "    news_articles_temp.at[i,\"description\"] = string.strip()"
   ]
  },
  {
   "cell_type": "code",
   "execution_count": 16,
   "id": "54dec62e",
   "metadata": {},
   "outputs": [],
   "source": [
    "lemmatizer = WordNetLemmatizer()"
   ]
  },
  {
   "cell_type": "code",
   "execution_count": 17,
   "id": "77774342",
   "metadata": {},
   "outputs": [
    {
     "name": "stdout",
     "output_type": "stream",
     "text": [
      "0\n",
      "1000\n",
      "2000\n",
      "3000\n",
      "4000\n",
      "5000\n",
      "6000\n",
      "7000\n"
     ]
    }
   ],
   "source": [
    "for i in range(len(news_articles_temp[\"description\"])):\n",
    "    string = \"\"\n",
    "    for w in word_tokenize(news_articles_temp[\"description\"][i]):\n",
    "        string += lemmatizer.lemmatize(w,pos = \"v\") + \" \"\n",
    "    news_articles_temp.at[i, \"description\"] = string.strip()\n",
    "    if(i%1000==0):\n",
    "        print(i)           # To track number of records processed"
   ]
  },
  {
   "cell_type": "markdown",
   "id": "034a8ba5",
   "metadata": {},
   "source": [
    "# TF-IDF method"
   ]
  },
  {
   "cell_type": "code",
   "execution_count": 18,
   "id": "8ee3a67d",
   "metadata": {},
   "outputs": [],
   "source": [
    "tfidf_description_vectorizer = TfidfVectorizer(min_df = 0)\n",
    "tfidf_description_features = tfidf_description_vectorizer.fit_transform(news_articles_temp['description'])"
   ]
  },
  {
   "cell_type": "code",
   "execution_count": 19,
   "id": "06123dce",
   "metadata": {},
   "outputs": [
    {
     "name": "stdout",
     "output_type": "stream",
     "text": [
      "description :  ″My photo seems to have traveled far. I say it is because of the color of my hair,” she said.\n"
     ]
    },
    {
     "data": {
      "text/html": [
       "<div>\n",
       "<style scoped>\n",
       "    .dataframe tbody tr th:only-of-type {\n",
       "        vertical-align: middle;\n",
       "    }\n",
       "\n",
       "    .dataframe tbody tr th {\n",
       "        vertical-align: top;\n",
       "    }\n",
       "\n",
       "    .dataframe thead th {\n",
       "        text-align: right;\n",
       "    }\n",
       "</style>\n",
       "<table border=\"1\" class=\"dataframe\">\n",
       "  <thead>\n",
       "    <tr style=\"text-align: right;\">\n",
       "      <th></th>\n",
       "      <th>publish_date</th>\n",
       "      <th>description</th>\n",
       "      <th>Euclidean similarity with the queried article</th>\n",
       "    </tr>\n",
       "  </thead>\n",
       "  <tbody>\n",
       "    <tr>\n",
       "      <th>1</th>\n",
       "      <td>2018-01-03</td>\n",
       "      <td>\"Remember me, though I have to travel far, rem...</td>\n",
       "      <td>1.201945</td>\n",
       "    </tr>\n",
       "    <tr>\n",
       "      <th>2</th>\n",
       "      <td>2018-02-28</td>\n",
       "      <td>The war is far from over.</td>\n",
       "      <td>1.207912</td>\n",
       "    </tr>\n",
       "    <tr>\n",
       "      <th>3</th>\n",
       "      <td>2018-01-05</td>\n",
       "      <td>Why Trump eats so much McDonald's, and what hi...</td>\n",
       "      <td>1.237358</td>\n",
       "    </tr>\n",
       "    <tr>\n",
       "      <th>4</th>\n",
       "      <td>2018-02-17</td>\n",
       "      <td>“Growing up, I didn’t see any news anchors wit...</td>\n",
       "      <td>1.242886</td>\n",
       "    </tr>\n",
       "    <tr>\n",
       "      <th>5</th>\n",
       "      <td>2018-04-23</td>\n",
       "      <td>It's the travel series America needs.</td>\n",
       "      <td>1.248519</td>\n",
       "    </tr>\n",
       "  </tbody>\n",
       "</table>\n",
       "</div>"
      ],
      "text/plain": [
       "  publish_date                                        description  \\\n",
       "1   2018-01-03  \"Remember me, though I have to travel far, rem...   \n",
       "2   2018-02-28                          The war is far from over.   \n",
       "3   2018-01-05  Why Trump eats so much McDonald's, and what hi...   \n",
       "4   2018-02-17  “Growing up, I didn’t see any news anchors wit...   \n",
       "5   2018-04-23              It's the travel series America needs.   \n",
       "\n",
       "   Euclidean similarity with the queried article  \n",
       "1                                       1.201945  \n",
       "2                                       1.207912  \n",
       "3                                       1.237358  \n",
       "4                                       1.242886  \n",
       "5                                       1.248519  "
      ]
     },
     "execution_count": 19,
     "metadata": {},
     "output_type": "execute_result"
    }
   ],
   "source": [
    "def tfidf_based_model(row_index, num_similar_items=6):\n",
    "    couple_dist = pairwise_distances(tfidf_description_features,tfidf_description_features[row_index])\n",
    "    indices = np.argsort(couple_dist.ravel())[0:num_similar_items]\n",
    "    df = pd.DataFrame({'publish_date': news_articles['date'][indices].values,\n",
    "               'description':news_articles['description'][indices].values,\n",
    "                'Euclidean similarity with the queried article': couple_dist[indices].ravel()})\n",
    "    #print(\"=\"*30,\"Queried article details\",\"=\"*30)\n",
    "    print('description : ',news_articles['description'][indices[0]])\n",
    "    #print(\"\\n\",\"=\"*25,\"Recommended articles : \",\"=\"*23)\n",
    "    \n",
    "    #return df.iloc[1:,1]\n",
    "    return df.iloc[1:,]\n",
    "tfidf_based_model(2)"
   ]
  },
  {
   "cell_type": "markdown",
   "id": "48af1cd0",
   "metadata": {},
   "source": [
    "# Weighted similarity based on category, publish day and author"
   ]
  },
  {
   "cell_type": "code",
   "execution_count": 20,
   "id": "b34f6746",
   "metadata": {},
   "outputs": [],
   "source": [
    "from sklearn.preprocessing import OneHotEncoder "
   ]
  },
  {
   "cell_type": "code",
   "execution_count": 21,
   "id": "f69ccc13",
   "metadata": {},
   "outputs": [],
   "source": [
    "category_onehot_encoded = OneHotEncoder().fit_transform(np.array(news_articles_temp[\"category\"]).reshape(-1,1))"
   ]
  },
  {
   "cell_type": "code",
   "execution_count": 22,
   "id": "dd9eb68c",
   "metadata": {},
   "outputs": [],
   "source": [
    "publishingday_onehot_encoded = OneHotEncoder().fit_transform(np.array(news_articles_temp[\"day and month\"]).reshape(-1,1))"
   ]
  },
  {
   "cell_type": "code",
   "execution_count": 23,
   "id": "b26c5cd3",
   "metadata": {},
   "outputs": [],
   "source": [
    "authors_onehot_encoded = OneHotEncoder().fit_transform(np.array(news_articles_temp[\"authors\"]).reshape(-1,1))"
   ]
  },
  {
   "cell_type": "code",
   "execution_count": 24,
   "id": "a1d9dcf0",
   "metadata": {},
   "outputs": [
    {
     "name": "stdout",
     "output_type": "stream",
     "text": [
      "============================== Queried article details ==============================\n",
      "headline :  The Facebook/Cambridge Analytica Scandal, According To My Mom\n",
      "Categoty :  POLITICS\n",
      "Authors :  Ashley Feinberg\n",
      "Day and month :  Thu_Mar\n",
      "\n",
      " ========================= Recommended articles :  =======================\n"
     ]
    },
    {
     "data": {
      "text/html": [
       "<div>\n",
       "<style scoped>\n",
       "    .dataframe tbody tr th:only-of-type {\n",
       "        vertical-align: middle;\n",
       "    }\n",
       "\n",
       "    .dataframe tbody tr th {\n",
       "        vertical-align: top;\n",
       "    }\n",
       "\n",
       "    .dataframe thead th {\n",
       "        text-align: right;\n",
       "    }\n",
       "</style>\n",
       "<table border=\"1\" class=\"dataframe\">\n",
       "  <thead>\n",
       "    <tr style=\"text-align: right;\">\n",
       "      <th></th>\n",
       "      <th>publish_date</th>\n",
       "      <th>headline_text</th>\n",
       "      <th>Weighted Euclidean similarity with the queried article</th>\n",
       "      <th>Word2Vec based Euclidean similarity</th>\n",
       "      <th>Category based Euclidean similarity</th>\n",
       "      <th>Authors based Euclidean similarity</th>\n",
       "      <th>Publishing day based Euclidean similarity</th>\n",
       "      <th>Categoty</th>\n",
       "      <th>Authors</th>\n",
       "      <th>Day and month</th>\n",
       "    </tr>\n",
       "  </thead>\n",
       "  <tbody>\n",
       "    <tr>\n",
       "      <th>1</th>\n",
       "      <td>2018-03-10</td>\n",
       "      <td>GOP: Actually, There Are Lots Of Women In The ...</td>\n",
       "      <td>1.278436</td>\n",
       "      <td>1.274030</td>\n",
       "      <td>1.0</td>\n",
       "      <td>1.0</td>\n",
       "      <td>2.414214</td>\n",
       "      <td>POLITICS</td>\n",
       "      <td>Ashley Feinberg</td>\n",
       "      <td>Sat_Mar</td>\n",
       "    </tr>\n",
       "    <tr>\n",
       "      <th>2</th>\n",
       "      <td>2018-04-25</td>\n",
       "      <td>Turning Point USA Keeps Accidentally Hiring Ra...</td>\n",
       "      <td>1.348528</td>\n",
       "      <td>1.414214</td>\n",
       "      <td>1.0</td>\n",
       "      <td>1.0</td>\n",
       "      <td>2.414214</td>\n",
       "      <td>POLITICS</td>\n",
       "      <td>Ashley Feinberg</td>\n",
       "      <td>Wed_Apr</td>\n",
       "    </tr>\n",
       "    <tr>\n",
       "      <th>3</th>\n",
       "      <td>2018-03-05</td>\n",
       "      <td>Bernie Sanders' Son Is Extremely Mad Online</td>\n",
       "      <td>1.348528</td>\n",
       "      <td>1.414214</td>\n",
       "      <td>1.0</td>\n",
       "      <td>1.0</td>\n",
       "      <td>2.414214</td>\n",
       "      <td>POLITICS</td>\n",
       "      <td>Ashley Feinberg</td>\n",
       "      <td>Mon_Mar</td>\n",
       "    </tr>\n",
       "    <tr>\n",
       "      <th>4</th>\n",
       "      <td>2018-01-10</td>\n",
       "      <td>Don Jr., It’s a Beautiful Day For A Walk Aroun...</td>\n",
       "      <td>1.348528</td>\n",
       "      <td>1.414214</td>\n",
       "      <td>1.0</td>\n",
       "      <td>1.0</td>\n",
       "      <td>2.414214</td>\n",
       "      <td>POLITICS</td>\n",
       "      <td>Ashley Feinberg</td>\n",
       "      <td>Wed_Jan</td>\n",
       "    </tr>\n",
       "    <tr>\n",
       "      <th>5</th>\n",
       "      <td>2018-01-17</td>\n",
       "      <td>Chuck Grassley’s Yearlong, One-Sided Twitter C...</td>\n",
       "      <td>1.348528</td>\n",
       "      <td>1.414214</td>\n",
       "      <td>1.0</td>\n",
       "      <td>1.0</td>\n",
       "      <td>2.414214</td>\n",
       "      <td>POLITICS</td>\n",
       "      <td>Ashley Feinberg</td>\n",
       "      <td>Wed_Jan</td>\n",
       "    </tr>\n",
       "    <tr>\n",
       "      <th>6</th>\n",
       "      <td>2018-02-07</td>\n",
       "      <td>Right-Wing Conspiracists Are Pretending The FB...</td>\n",
       "      <td>1.348528</td>\n",
       "      <td>1.414214</td>\n",
       "      <td>1.0</td>\n",
       "      <td>1.0</td>\n",
       "      <td>2.414214</td>\n",
       "      <td>POLITICS</td>\n",
       "      <td>Ashley Feinberg</td>\n",
       "      <td>Wed_Feb</td>\n",
       "    </tr>\n",
       "    <tr>\n",
       "      <th>7</th>\n",
       "      <td>2018-03-26</td>\n",
       "      <td>Kellyanne Conway's Husband Is Going Rogue</td>\n",
       "      <td>1.348528</td>\n",
       "      <td>1.414214</td>\n",
       "      <td>1.0</td>\n",
       "      <td>1.0</td>\n",
       "      <td>2.414214</td>\n",
       "      <td>POLITICS</td>\n",
       "      <td>Ashley Feinberg</td>\n",
       "      <td>Mon_Mar</td>\n",
       "    </tr>\n",
       "    <tr>\n",
       "      <th>8</th>\n",
       "      <td>2018-05-10</td>\n",
       "      <td>Here Are All 3 FCC Complaints About The '60 Mi...</td>\n",
       "      <td>1.348528</td>\n",
       "      <td>1.414214</td>\n",
       "      <td>1.0</td>\n",
       "      <td>1.0</td>\n",
       "      <td>2.414214</td>\n",
       "      <td>POLITICS</td>\n",
       "      <td>Ashley Feinberg</td>\n",
       "      <td>Thu_May</td>\n",
       "    </tr>\n",
       "    <tr>\n",
       "      <th>9</th>\n",
       "      <td>2018-04-05</td>\n",
       "      <td>Here’s Don Jr. Talking About How It Sucks To B...</td>\n",
       "      <td>1.348528</td>\n",
       "      <td>1.414214</td>\n",
       "      <td>1.0</td>\n",
       "      <td>1.0</td>\n",
       "      <td>2.414214</td>\n",
       "      <td>POLITICS</td>\n",
       "      <td>Ashley Feinberg</td>\n",
       "      <td>Thu_Apr</td>\n",
       "    </tr>\n",
       "  </tbody>\n",
       "</table>\n",
       "</div>"
      ],
      "text/plain": [
       "  publish_date                                      headline_text  \\\n",
       "1   2018-03-10  GOP: Actually, There Are Lots Of Women In The ...   \n",
       "2   2018-04-25  Turning Point USA Keeps Accidentally Hiring Ra...   \n",
       "3   2018-03-05        Bernie Sanders' Son Is Extremely Mad Online   \n",
       "4   2018-01-10  Don Jr., It’s a Beautiful Day For A Walk Aroun...   \n",
       "5   2018-01-17  Chuck Grassley’s Yearlong, One-Sided Twitter C...   \n",
       "6   2018-02-07  Right-Wing Conspiracists Are Pretending The FB...   \n",
       "7   2018-03-26          Kellyanne Conway's Husband Is Going Rogue   \n",
       "8   2018-05-10  Here Are All 3 FCC Complaints About The '60 Mi...   \n",
       "9   2018-04-05  Here’s Don Jr. Talking About How It Sucks To B...   \n",
       "\n",
       "   Weighted Euclidean similarity with the queried article  \\\n",
       "1                                           1.278436        \n",
       "2                                           1.348528        \n",
       "3                                           1.348528        \n",
       "4                                           1.348528        \n",
       "5                                           1.348528        \n",
       "6                                           1.348528        \n",
       "7                                           1.348528        \n",
       "8                                           1.348528        \n",
       "9                                           1.348528        \n",
       "\n",
       "   Word2Vec based Euclidean similarity  Category based Euclidean similarity  \\\n",
       "1                             1.274030                                  1.0   \n",
       "2                             1.414214                                  1.0   \n",
       "3                             1.414214                                  1.0   \n",
       "4                             1.414214                                  1.0   \n",
       "5                             1.414214                                  1.0   \n",
       "6                             1.414214                                  1.0   \n",
       "7                             1.414214                                  1.0   \n",
       "8                             1.414214                                  1.0   \n",
       "9                             1.414214                                  1.0   \n",
       "\n",
       "   Authors based Euclidean similarity  \\\n",
       "1                                 1.0   \n",
       "2                                 1.0   \n",
       "3                                 1.0   \n",
       "4                                 1.0   \n",
       "5                                 1.0   \n",
       "6                                 1.0   \n",
       "7                                 1.0   \n",
       "8                                 1.0   \n",
       "9                                 1.0   \n",
       "\n",
       "   Publishing day based Euclidean similarity  Categoty          Authors  \\\n",
       "1                                   2.414214  POLITICS  Ashley Feinberg   \n",
       "2                                   2.414214  POLITICS  Ashley Feinberg   \n",
       "3                                   2.414214  POLITICS  Ashley Feinberg   \n",
       "4                                   2.414214  POLITICS  Ashley Feinberg   \n",
       "5                                   2.414214  POLITICS  Ashley Feinberg   \n",
       "6                                   2.414214  POLITICS  Ashley Feinberg   \n",
       "7                                   2.414214  POLITICS  Ashley Feinberg   \n",
       "8                                   2.414214  POLITICS  Ashley Feinberg   \n",
       "9                                   2.414214  POLITICS  Ashley Feinberg   \n",
       "\n",
       "  Day and month  \n",
       "1       Sat_Mar  \n",
       "2       Wed_Apr  \n",
       "3       Mon_Mar  \n",
       "4       Wed_Jan  \n",
       "5       Wed_Jan  \n",
       "6       Wed_Feb  \n",
       "7       Mon_Mar  \n",
       "8       Thu_May  \n",
       "9       Thu_Apr  "
      ]
     },
     "execution_count": 24,
     "metadata": {},
     "output_type": "execute_result"
    }
   ],
   "source": [
    "def avg_TFIDF_with_category_authors_and_publshing_day(row_index, num_similar_items, w1,w2,w3,w4): #headline_preference = True, category_preference = False):\n",
    "    w2v_dist  = pairwise_distances(tfidf_description_features,tfidf_description_features[row_index].reshape(1,-1))\n",
    "    category_dist = pairwise_distances(category_onehot_encoded, category_onehot_encoded[row_index]) + 1\n",
    "    authors_dist = pairwise_distances(authors_onehot_encoded, authors_onehot_encoded[row_index]) + 1\n",
    "    publishingday_dist = pairwise_distances(publishingday_onehot_encoded, publishingday_onehot_encoded[row_index]) + 1\n",
    "    weighted_couple_dist   = (w1 * w2v_dist +  w2 * category_dist + w3 * authors_dist + w4 * publishingday_dist)/float(w1 + w2 + w3 + w4)\n",
    "    indices = np.argsort(weighted_couple_dist.flatten())[0:num_similar_items].tolist()\n",
    "    df = pd.DataFrame({'publish_date': news_articles['date'][indices].values,\n",
    "                'headline_text':news_articles['headline'][indices].values,\n",
    "                'Weighted Euclidean similarity with the queried article': weighted_couple_dist[indices].ravel(),\n",
    "                'Word2Vec based Euclidean similarity': w2v_dist[indices].ravel(),\n",
    "                'Category based Euclidean similarity': category_dist[indices].ravel(),\n",
    "                'Authors based Euclidean similarity': authors_dist[indices].ravel(),   \n",
    "                'Publishing day based Euclidean similarity': publishingday_dist[indices].ravel(), \n",
    "                'Categoty': news_articles['category'][indices].values,\n",
    "                'Authors': news_articles['authors'][indices].values,\n",
    "                'Day and month': news_articles['day and month'][indices].values})\n",
    "    print(\"=\"*30,\"Queried article details\",\"=\"*30)\n",
    "    print('headline : ',news_articles['headline'][indices[0]])\n",
    "    print('Categoty : ', news_articles['category'][indices[0]])\n",
    "    print('Authors : ', news_articles['authors'][indices[0]])\n",
    "    print('Day and month : ', news_articles['day and month'][indices[0]])\n",
    "    print(\"\\n\",\"=\"*25,\"Recommended articles : \",\"=\"*23)\n",
    "    #return df.iloc[1:,[1,7,8,9]]\n",
    "    return df.iloc[1:, ]\n",
    "\n",
    "\n",
    "avg_TFIDF_with_category_authors_and_publshing_day(528,10,0.5,0.2,0.2,0.1)\n"
   ]
  },
  {
   "cell_type": "code",
   "execution_count": 25,
   "id": "858215ca",
   "metadata": {},
   "outputs": [
    {
     "data": {
      "text/plain": [
       "(7828, 7)"
      ]
     },
     "execution_count": 25,
     "metadata": {},
     "output_type": "execute_result"
    }
   ],
   "source": [
    "news_articles.shape"
   ]
  },
  {
   "cell_type": "code",
   "execution_count": null,
   "id": "223b6e7b",
   "metadata": {},
   "outputs": [],
   "source": []
  },
  {
   "cell_type": "code",
   "execution_count": null,
   "id": "36b465a3",
   "metadata": {},
   "outputs": [],
   "source": []
  }
 ],
 "metadata": {
  "kernelspec": {
   "display_name": "Python 3 (ipykernel)",
   "language": "python",
   "name": "python3"
  },
  "language_info": {
   "codemirror_mode": {
    "name": "ipython",
    "version": 3
   },
   "file_extension": ".py",
   "mimetype": "text/x-python",
   "name": "python",
   "nbconvert_exporter": "python",
   "pygments_lexer": "ipython3",
   "version": "3.9.7"
  }
 },
 "nbformat": 4,
 "nbformat_minor": 5
}
